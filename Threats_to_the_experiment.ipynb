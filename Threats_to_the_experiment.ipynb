{
  "nbformat": 4,
  "nbformat_minor": 0,
  "metadata": {
    "colab": {
      "provenance": []
    },
    "kernelspec": {
      "name": "python3",
      "display_name": "Python 3"
    },
    "language_info": {
      "name": "python"
    }
  },
  "cells": [
    {
      "cell_type": "markdown",
      "source": [
        "### Threats to the experiment.\n",
        "###**INSTRUCTIONS**:\n",
        "#####Provide your observation/summary for all tutorials and tasks. Marks will be deducted for those who dont write the summary.\n",
        "#####Print this file as pdf and submit both pdf and .ipynb file(No screenshots). Not submitting any of these files will impact their grades."
      ],
      "metadata": {
        "id": "U77OrzvfJbX3"
      }
    },
    {
      "cell_type": "markdown",
      "source": [
        "#Task 1:(30%)"
      ],
      "metadata": {
        "id": "JyWdSaq6g9bM"
      }
    },
    {
      "cell_type": "markdown",
      "source": [
        "Question 1:\n",
        "Define internal, external and construct validities and explain each with an example. Also summarize the threats to each of them."
      ],
      "metadata": {
        "id": "5J-ROlW28Asy"
      }
    },
    {
      "cell_type": "markdown",
      "source": [
        "**Internal Validity :**  \n",
        "this is represent the actual relation between the two or more variables. its happened that observation of the results may be the data is not real but its manipulated independent variables and not to other factors. here its clear that all the changes in the dependent variable are all because of the independent variable and not because of the finding the other variables.\n",
        "\n",
        "Example :  researcher taking a experiment for covid19 new drug (independent variable)for reducing the covid19 symptoms(dependent variable). there is high validity of the drugs if the researcher give assurance that there is only difference between two variable is the administration of the drug. here, if the different of the drug is from other things such as Age and heart dieases, that may be lead to threaten internal validity of the drug.\n",
        "\n",
        "Threats to Internal validity:\n",
        "changes of the participants not because of the independent varibale, but its natural growth is the maturation.\n",
        "some times external event occurance may be lead to the  affect dependent varibale and make in unrelated to independent variable because of the history of the operation.\n",
        "selection of bias is happened when the groups are randomly assigned and the features of the participants of the different groups and its various systematically.\n",
        "instrumentation is for changing the quantity of the instrument or the process for performing study.\n",
        "the performance of the participants is improve because the test is already taken before, not because of the treatment which reflect the treatment effects.\n",
        "if the variables score are high then its going to more closer to the mean when its retesting  which is regression to the mean.\n",
        "\n",
        "\n",
        "**External Validity:**\n",
        "this is the general meaning of the  finding the research. this is when the results apply on people, times and conditions to the specific sample and the context of the study is used.\n",
        "\n",
        "Example\n",
        "suppose there is case study conduct with university student for checking the stress level and check the effect of the new therapy for reducing the stress but its good if we consider whole country data with different age people, different culture and different background.\n",
        "\n",
        "threats to external validity:\n",
        "if the predefined setting and context of the study does not take recover the real world situations for finding should applied which is.\n",
        "ecological validity.\n",
        "finding the remaining relevant information over time the social , technology and environment of the research study change over time is temporary validity.\n",
        "target population samples are not present proper while the study is not accurate then the sampling bias occured.\n",
        "if the obeserved effect of the one situation is not affect the other situation   because of the specific condition.\n",
        "\n",
        "\n",
        "**Construct Validity:**\n",
        "this is validity where the research study accurate to measure the underlying the theory of constructed is as follows. this is where the each of the theorical concepts are being covered for the study and its all covered in study.\n",
        "\n",
        "\n",
        "Example:\n",
        "let's conduct study for people with IQ level and we are making one questionary for conduct reseach and collect data.  construct validity is high if the questionary answers are more realiable and self confidence of the different person with high IQ level with low IQ level.\n",
        "\n",
        "\n",
        "Threats to Construct Validity:\n",
        "if the participants change  theire behaviour because they think they may be observed which is called as reactivity.\n",
        "when the quantity is failed due to collect all the information of all the aspects for the construt underrepresentation.\n",
        "if the source of the results are various and unrelated to the construct being count affect the final results if we construct inrrelevant differences.\n",
        "if we depend on the single count or indicator to show the complex construct then the study is mono operation bias.\n",
        "if the participants gives answer of the questionary because they think that they are socially accept and not the true feeling.\n",
        "\n",
        "In conclude, internal validity is consider the accuracy of the casual relation inside the study. talking about the external study which is for focuses on the generalization of the finding the different surroundings, while construct validity assesses  the accuracy for calculating the conducting theory for constructs. here each of the validity is facing the issue of thereats while conducting  a research which is every study needs to consider while designing and interpreting research.\n"
      ],
      "metadata": {
        "id": "vX2MDUyFmHsf"
      }
    },
    {
      "cell_type": "markdown",
      "source": [
        "Question 2: Write a short note on placebo effect."
      ],
      "metadata": {
        "id": "gYoJuiyjAZgX"
      }
    },
    {
      "cell_type": "markdown",
      "source": [
        "**placebo effect:**\n",
        "this is the benificial change in the person's condition which is happened after the treatment or medication which is not give any effect on the underlying conditions. the improvement of the patient condition is not due to the ingredients of the treatment or the procedure of the treatment but the individual have faith on the treatment.\n",
        "\n",
        "when placebo is used for conducting the research for  controlling the placebo effect , its used ethically by surroundings, its mindful when its used for medical condition.  its not consider when the effective treatments are available which is consider as ethical consideration of placebo.\n",
        "\n",
        "this is technique for power of the belief and the mind's ability of the  influence physical well- being. if the person have the faith on the treatment will help them, and their brain gets encounter the real physiological responses, such as the release of the chemical in the body, endorphins or other neurotransmitters  which is reduce the pain of the relief symptoms which is for psychocological mechanism.\n",
        "\n",
        "placebo effect is often taken in the account specially in the clinical trials. for checking the effect of the placebo researcher use the control groups for comparing the effect of the real treatment. here the researcher check if the improvement of the patients due to the treatment ingredients or just simply because fo the placebo effect.  \n",
        "\n",
        "the surrounding in which a treatment is examine the influence the magnitude the placebo effect. here all the other operation affects such as doctor demeanor, treatments appearance and patient's expectation.\n",
        "\n",
        "understanding the placebo effects is valuable in the clinical practice. this is the improvement of the patient provide communication, empathy and therapy of relationship in clinic.by building trust and instilling positive effects of the hospital provides can impove the placebo effects, which is better result for the patients.\n",
        "\n",
        "all in all, the researcher goal to quantify and account for the placebo effect to ensure that there is observation of the benefits of the treatment are active ingredients or machanism. this is the caredul study of design, control group and statistics analysis for the different between the actual therapy effect and effect of the stemming from believe and expectations. understanding and recognising the effect of the placebo effect can be an essential component of the effect of the healthcare and research methods.\n"
      ],
      "metadata": {
        "id": "QZljLhWRmImU"
      }
    },
    {
      "cell_type": "markdown",
      "source": [
        "Question 3: Differentiate between double and triple blinding."
      ],
      "metadata": {
        "id": "2wGazMi2AwSq"
      }
    },
    {
      "cell_type": "markdown",
      "source": [
        "double and triple blinding is the two different method is used for research studies for clinical trials, for reducing the bias and ensure the validity of the study results. here its involve the concealing the certain information from the different parties involved in the study, participants and researchers, is to prevent their knowledge from influending the results.\n",
        "\n",
        "**Double Blinding:**\n",
        "in the double blind study , the participants and the research personnel are unaware about the critical information.\n",
        "participants are not clear about whether they are receiving the actual treatment or placebo effect of the treatment. this is help the particiapnts to expectation and faith from influencing their results and behaviour.\n",
        "researchers are interact with the participants, collecting the data or making the decision based on the study which is unaware about the treatment.  this is the prevention of the unintentional bias in the administration of the treatment or analysis of the results.\n",
        "the third party or the computer program is responsible for rendom and assign the participants to treatment of the group and ensured that the blinding remains preserved.\n",
        "\n",
        "**Triple Blinding:**   -\n",
        "this is where the blinding go further one step ahead by involving the third party in addition to the participants and researcher are blinded.\n",
        "participants and researcher, data analyst and statisticians are taking responsible for analysing the results and also keep  unaware about the treatment.\n",
        "in this there is no prerequisite where the  blinding ensured that individuals responsible for data analysis and its not require that needs to decide that which group received the expremental treatment and which recieved the control treatment.\n",
        "double blinds , independent entity is responsible for maintaining the blinding of all the parties involved in it.\n",
        "\n",
        "all in all, the main difference between the double and triple blind is , in the number of parties , who are not aware about the treatment. in double blind , participants and researchers are blinded, and while triple blinded, participants and researchers are all unware about the treatment. blinding techniques are used to minimize the bias and ensure that objective and validity of the  finding research, specially in the clinical trials where treatment results are being evaluated.\n"
      ],
      "metadata": {
        "id": "UEzATtohmJJn"
      }
    },
    {
      "cell_type": "markdown",
      "source": [
        "##Tutorial:Type 1 Error"
      ],
      "metadata": {
        "id": "rIpJO5TXScL4"
      }
    },
    {
      "cell_type": "markdown",
      "source": [
        "1.Importing all the required libraries"
      ],
      "metadata": {
        "id": "N5n-uzBZUTt_"
      }
    },
    {
      "cell_type": "code",
      "source": [
        "import numpy as np\n",
        "import pandas as pd\n",
        "import scipy.stats as stats\n",
        "import matplotlib.pyplot as plt\n",
        "import math\n",
        "import random\n",
        "\n",
        "import seaborn as sns\n",
        "sns.set(color_codes=True)"
      ],
      "metadata": {
        "id": "bN0P8L2dCtyN"
      },
      "execution_count": null,
      "outputs": []
    },
    {
      "cell_type": "markdown",
      "source": [
        "here, we are importing the libraries for performing the hypothesis testing . here we are importing the libraries for analysing the data using the numpy, pandas, math adnd random and for data visualization we are using matplotlib and seaborn.\n",
        "scipy library is used for performing the t-test with anova."
      ],
      "metadata": {
        "id": "dQwGTn5Y7wCr"
      }
    },
    {
      "cell_type": "markdown",
      "source": [
        "2.Here we create a population of 1000 elements with a mean of 100 and a standard deviation of 20."
      ],
      "metadata": {
        "id": "NMrwcDbhUZx5"
      }
    },
    {
      "cell_type": "code",
      "source": [
        "pop = np.random.normal(100, 20, 1000)\n",
        "pop.dtype\n",
        "sns.histplot(pop,kde=True)"
      ],
      "metadata": {
        "colab": {
          "base_uri": "https://localhost:8080/",
          "height": 452
        },
        "id": "s9oY51WcCyRT",
        "outputId": "c0becf51-40e4-4a55-923d-6fe98ede0773"
      },
      "execution_count": null,
      "outputs": [
        {
          "output_type": "execute_result",
          "data": {
            "text/plain": [
              "<Axes: ylabel='Count'>"
            ]
          },
          "metadata": {},
          "execution_count": 48
        },
        {
          "output_type": "display_data",
          "data": {
            "text/plain": [
              "<Figure size 640x480 with 1 Axes>"
            ],
            "image/png": "[encoded data removed]"
          },
          "metadata": {}
        }
      ]
    },
    {
      "cell_type": "markdown",
      "source": [
        "here, we are creating the population with the variable with name pop where the population is 1000 and mean is 100 and standard deviation is 20.\n",
        "\n",
        " focusing on the data points and visualization, in the x-axis the values ranges are from 25 to 175 and on the y-axis density range in between 0.0000 to 0.0200. where, the graph shows that the value os the population is high between the 100 ro 125 and reached above the 0.0175."
      ],
      "metadata": {
        "id": "LTe2-h6x8Rx8"
      }
    },
    {
      "cell_type": "markdown",
      "source": [
        "3.Lets take two samples from this population and comment on the difference between their means and standard deviations."
      ],
      "metadata": {
        "id": "zbkcyzStUijB"
      }
    },
    {
      "cell_type": "code",
      "source": [
        "k = 100\n",
        "sample1 = np.random.choice(pop,100,replace=True)\n",
        "\n",
        "print (\"Sample 1 Summary\")\n",
        "stats.describe(sample1)"
      ],
      "metadata": {
        "colab": {
          "base_uri": "https://localhost:8080/"
        },
        "id": "_ieySZ4vC2Xc",
        "outputId": "8b0aeed3-748a-4a23-d27d-b66e39355cd9"
      },
      "execution_count": null,
      "outputs": [
        {
          "output_type": "stream",
          "name": "stdout",
          "text": [
            "Sample 1 Summary\n"
          ]
        },
        {
          "output_type": "execute_result",
          "data": {
            "text/plain": [
              "DescribeResult(nobs=100, minmax=(47.01800913465881, 135.1683571475825), mean=101.25530504886414, variance=315.7030636365048, skewness=-0.44426818313662275, kurtosis=-0.047415074860858386)"
            ]
          },
          "metadata": {},
          "execution_count": 49
        }
      ]
    },
    {
      "cell_type": "markdown",
      "source": [
        "here, we are creating the sample 1 for k value as 100 which shows the sample sized. sample 1 is randomly select 100 values with the replacement of the sample named with sample 1. now , we are printing the labels for sample 1 where the mean is approx 103 and  variance is 357.88.\n",
        "in conclude, this will create the random sample of the size 100 from the populations and provides the statistical calculations.\n",
        "\n"
      ],
      "metadata": {
        "id": "4DMXa6gH9b--"
      }
    },
    {
      "cell_type": "code",
      "source": [
        "sample2 = np.random.choice(pop,100,replace=True)\n",
        "print (\"Sample 2 Summary\")\n",
        "stats.describe(sample2)"
      ],
      "metadata": {
        "colab": {
          "base_uri": "https://localhost:8080/"
        },
        "id": "xQQfmFtUJX53",
        "outputId": "9f0c8508-2f01-49e7-9beb-37157c4ecea1"
      },
      "execution_count": null,
      "outputs": [
        {
          "output_type": "stream",
          "name": "stdout",
          "text": [
            "Sample 2 Summary\n"
          ]
        },
        {
          "output_type": "execute_result",
          "data": {
            "text/plain": [
              "DescribeResult(nobs=100, minmax=(52.44248930446262, 139.0660651149198), mean=97.26977413298052, variance=393.9381746483626, skewness=-0.06886185332206009, kurtosis=-0.703305318311926)"
            ]
          },
          "metadata": {},
          "execution_count": 50
        }
      ]
    },
    {
      "cell_type": "markdown",
      "source": [
        "here, we are creating the second random sample for the same population as sample 2 which display the summary of the statistical properties using the scipy. focusing on the results, number of observation there are total 100 data points for sample 2. minimum and maximum values are for sample 2 is approx 42.43 and maximum value is 148.07. focusing on the mean for the sample2 is approx 100.64. now, variance , which is calculate the distribute the data approx is 449.37. now. skewness value is -0.22 which shows that its slight negative skew, this skew is slightly skewed left.\n",
        "\n",
        "all in all, sample 2 is the random sample of 100 observation from the populations and summary of the statistics overview into the central tedency, spreading the data.\n",
        "\n"
      ],
      "metadata": {
        "id": "fBiHnwPN9NR5"
      }
    },
    {
      "cell_type": "markdown",
      "source": [
        "4.T-test result."
      ],
      "metadata": {
        "id": "xHordQXxV_U-"
      }
    },
    {
      "cell_type": "code",
      "source": [
        "# test the sample means\n",
        "stats.ttest_ind(sample1, sample2)"
      ],
      "metadata": {
        "colab": {
          "base_uri": "https://localhost:8080/"
        },
        "id": "HccCNeguJZOE",
        "outputId": "4a8e7b54-7d72-4559-c1d2-1e07bba1baaf"
      },
      "execution_count": null,
      "outputs": [
        {
          "output_type": "execute_result",
          "data": {
            "text/plain": [
              "TtestResult(statistic=1.4961211409889053, pvalue=0.13621432985462853, df=198.0)"
            ]
          },
          "metadata": {},
          "execution_count": 51
        }
      ]
    },
    {
      "cell_type": "markdown",
      "source": [
        "here, we are conducting the independent two sample for t-test for comparing the means of the sample 1 and sample 2.\n",
        "t-statistics is approx is 0.9755, which is shows that different of the means.\n",
        "p-value is the approx 0.3305, which shows that there is no significant level difference between the mean of the significant level. the degree of freedom for the test is 198.0.\n",
        "\n",
        "all in all, this test is not provide any strong evidence to reject the null hypothesis, which shows that the means of the sample 1 and sample 2 is not significant different at the common significant level.\n",
        "\n",
        "\n"
      ],
      "metadata": {
        "id": "qJI-5r56_qqP"
      }
    },
    {
      "cell_type": "code",
      "source": [
        "plt.figure(\"Test Samples\")\n",
        "sns.histplot(sample1, label='Sample1',kde=True)\n",
        "sns.histplot(sample2, label='Sample2',kde=True)\n",
        "plt.legend()\n",
        "plt.show()"
      ],
      "metadata": {
        "colab": {
          "base_uri": "https://localhost:8080/",
          "height": 437
        },
        "id": "RLscIY0MJcB-",
        "outputId": "c91f0b38-b3b8-4595-d3fe-e4a579fa3f72"
      },
      "execution_count": null,
      "outputs": [
        {
          "output_type": "display_data",
          "data": {
            "text/plain": [
              "<Figure size 640x480 with 1 Axes>"
            ],
            "image/png": "[encoded data removed]"
          },
          "metadata": {}
        }
      ]
    },
    {
      "cell_type": "markdown",
      "source": [
        "The following steps shows us how alpha affects the rate of type 1 errors.  \n",
        "\n",
        "here, we are creating the plot diagram for sample 1 and sample 2 and visualize the difference with the density for both the samples.  focusing on the graph, there is consider of two samples, sample 1 and sample 2. where two of the samples run simeteniously,but focusing the reuslt in details sample 1 is little but higher than sample 2. where sample  1 density reach at approx 0.019 around and for sample 2 is reached right below the sample 1.\n",
        "this plot is shows the results and overslapt of the samples and also distribution of the sample 1 and sample 2 data points."
      ],
      "metadata": {
        "id": "eKtqj0asAg7C"
      }
    },
    {
      "cell_type": "markdown",
      "source": [
        "Creating a population distribution and specifying a number of hypothesis tests in numtests. Next, we create a list of alpha values to explore alpha_set.Also create a pandas data frame to store 5000 results."
      ],
      "metadata": {
        "id": "r9-mXBG5ZAUA"
      }
    },
    {
      "cell_type": "code",
      "source": [
        "import pandas as pd\n",
        "\n",
        "numTests = 100\n",
        "alphaSet = [0.001, 0.01, 0.05, 0.1, 0.2, 0.5]\n",
        "columns = ['err', 'p_val', 'alpha']\n",
        "sigTests = pd.DataFrame(columns=columns)\n",
        "\n",
        "# Create a population with mean=100 and sd=20 and size = 1000\n",
        "pop = np.random.normal(100, 20, 1000)\n",
        "\n",
        "# Create a counter for dataframe index values\n",
        "counter = 1"
      ],
      "metadata": {
        "id": "lKF0qouQJfoM"
      },
      "execution_count": null,
      "outputs": []
    },
    {
      "cell_type": "markdown",
      "source": [
        "here, we are creating simulation for hypothesis testing, which defined the parameter for number of test, alpha level and error and also we are creating the data frame named as sigtests. now we are creating the population with 1000 and mean is 100 and standard deviation is 20. here numtest is used for number of hypothesis test conducted during study. alphaset is used for containing the list of the significant levels and at the last sigtest is empty data frame for storing the results of the  type - I errors.\n",
        "here , we are creating the number of hypothesis test using the different significant level and populate with results and information about the type -I error.\n",
        "\n"
      ],
      "metadata": {
        "id": "FQU_D9YtGuQb"
      }
    },
    {
      "cell_type": "markdown",
      "source": [
        "Run the t-test on samples from distribution numTests x alphaSet times"
      ],
      "metadata": {
        "id": "rn79LSvXZgsy"
      }
    },
    {
      "cell_type": "code",
      "source": [
        "# Run the t-test on samples from distribution numTests x slphaSet times\n",
        "\n",
        "for i in range(1,numTests+1):\n",
        "\n",
        "    for alpha in alphaSet:\n",
        "\n",
        "        # take two samples from the same population\n",
        "            samp1 = np.random.choice(pop,100,replace=True)\n",
        "            samp2 = np.random.choice(pop,100,replace=True)\n",
        "\n",
        "            # test sample means\n",
        "            result = stats.ttest_ind(samp1, samp2)\n",
        "\n",
        "            # Evaluate whether Null hypothesis for TYPE I error\n",
        "            if result[1] < alpha:\n",
        "                 sigTests.loc[counter] = [1, result[1], alpha]\n",
        "            else:\n",
        "                 sigTests.loc[counter] = [0, result[1], alpha]\n",
        "\n",
        "            counter += 1"
      ],
      "metadata": {
        "id": "WYfybebqJnQf"
      },
      "execution_count": null,
      "outputs": []
    },
    {
      "cell_type": "markdown",
      "source": [
        "here, we are conducting the simulation of hypothesis test for the  number of iteration and at the different significant level.\n",
        "this is iterate throught the different number of tests and alpha levels and generate the random sample from the populations. here, we are performing two different sample test on the samples , and if the p-vaue is less then alpha value 0.05 then its marks as type -I error as 0 , or else it records as type -I error as 1 in the dataframe.\n",
        "here,we are using counter to keep the tracking report of the simulation progress, we are populating the sigtest with the type -I error, p-value and alpha level for the each of the test iteration.\n",
        "\n",
        "\n",
        "\n"
      ],
      "metadata": {
        "id": "a6ryaHbqILbH"
      }
    },
    {
      "cell_type": "markdown",
      "source": [
        "Finding P-values for each of the alpha values."
      ],
      "metadata": {
        "id": "WQ_tqJLwZ2VM"
      }
    },
    {
      "cell_type": "code",
      "source": [
        "sigTests.head()"
      ],
      "metadata": {
        "colab": {
          "base_uri": "https://localhost:8080/",
          "height": 206
        },
        "id": "rS0iCd-mJuop",
        "outputId": "c6a0b1f9-4cbd-4f54-865c-b71d0e02ed73"
      },
      "execution_count": null,
      "outputs": [
        {
          "output_type": "execute_result",
          "data": {
            "text/plain": [
              "   err     p_val  alpha\n",
              "1  0.0  0.064084  0.001\n",
              "2  0.0  0.583347  0.010\n",
              "3  0.0  0.522610  0.050\n",
              "4  1.0  0.061528  0.100\n",
              "5  0.0  0.531387  0.200"
            ],
            "text/html": [
              "\n",
              "  <div id=\"df-419a17cb-dae0-4f94-b700-6d06be9242d6\" class=\"colab-df-container\">\n",
              "    <div>\n",
              "<style scoped>\n",
              "    .dataframe tbody tr th:only-of-type {\n",
              "        vertical-align: middle;\n",
              "    }\n",
              "\n",
              "    .dataframe tbody tr th {\n",
              "        vertical-align: top;\n",
              "    }\n",
              "\n",
              "    .dataframe thead th {\n",
              "        text-align: right;\n",
              "    }\n",
              "</style>\n",
              "<table border=\"1\" class=\"dataframe\">\n",
              "  <thead>\n",
              "    <tr style=\"text-align: right;\">\n",
              "      <th></th>\n",
              "      <th>err</th>\n",
              "      <th>p_val</th>\n",
              "      <th>alpha</th>\n",
              "    </tr>\n",
              "  </thead>\n",
              "  <tbody>\n",
              "    <tr>\n",
              "      <th>1</th>\n",
              "      <td>0.0</td>\n",
              "      <td>0.064084</td>\n",
              "      <td>0.001</td>\n",
              "    </tr>\n",
              "    <tr>\n",
              "      <th>2</th>\n",
              "      <td>0.0</td>\n",
              "      <td>0.583347</td>\n",
              "      <td>0.010</td>\n",
              "    </tr>\n",
              "    <tr>\n",
              "      <th>3</th>\n",
              "      <td>0.0</td>\n",
              "      <td>0.522610</td>\n",
              "      <td>0.050</td>\n",
              "    </tr>\n",
              "    <tr>\n",
              "      <th>4</th>\n",
              "      <td>1.0</td>\n",
              "      <td>0.061528</td>\n",
              "      <td>0.100</td>\n",
              "    </tr>\n",
              "    <tr>\n",
              "      <th>5</th>\n",
              "      <td>0.0</td>\n",
              "      <td>0.531387</td>\n",
              "      <td>0.200</td>\n",
              "    </tr>\n",
              "  </tbody>\n",
              "</table>\n",
              "</div>\n",
              "    <div class=\"colab-df-buttons\">\n",
              "\n",
              "  <div class=\"colab-df-container\">\n",
              "    <button class=\"colab-df-convert\" onclick=\"convertToInteractive('df-419a17cb-dae0-4f94-b700-6d06be9242d6')\"\n",
              "            title=\"Convert this dataframe to an interactive table.\"\n",
              "            style=\"display:none;\">\n",
              "\n",
              "  <svg xmlns=\"http://www.w3.org/2000/svg\" height=\"24px\" viewBox=\"0 -960 960 960\">\n",
              "    <path d=\"M120-120v-720h720v720H120Zm60-500h600v-160H180v160Zm220 220h160v-160H400v160Zm0 220h160v-160H400v160ZM180-400h160v-160H180v160Zm440 0h160v-160H620v160ZM180-180h160v-160H180v160Zm440 0h160v-160H620v160Z\"/>\n",
              "  </svg>\n",
              "    </button>\n",
              "\n",
              "  <style>\n",
              "    .colab-df-container {\n",
              "      display:flex;\n",
              "      gap: 12px;\n",
              "    }\n",
              "\n",
              "    .colab-df-convert {\n",
              "      background-color: #E8F0FE;\n",
              "      border: none;\n",
              "      border-radius: 50%;\n",
              "      cursor: pointer;\n",
              "      display: none;\n",
              "      fill: #1967D2;\n",
              "      height: 32px;\n",
              "      padding: 0 0 0 0;\n",
              "      width: 32px;\n",
              "    }\n",
              "\n",
              "    .colab-df-convert:hover {\n",
              "      background-color: #E2EBFA;\n",
              "      box-shadow: 0px 1px 2px rgba(60, 64, 67, 0.3), 0px 1px 3px 1px rgba(60, 64, 67, 0.15);\n",
              "      fill: #174EA6;\n",
              "    }\n",
              "\n",
              "    .colab-df-buttons div {\n",
              "      margin-bottom: 4px;\n",
              "    }\n",
              "\n",
              "    [theme=dark] .colab-df-convert {\n",
              "      background-color: #3B4455;\n",
              "      fill: #D2E3FC;\n",
              "    }\n",
              "\n",
              "    [theme=dark] .colab-df-convert:hover {\n",
              "      background-color: #434B5C;\n",
              "      box-shadow: 0px 1px 3px 1px rgba(0, 0, 0, 0.15);\n",
              "      filter: drop-shadow(0px 1px 2px rgba(0, 0, 0, 0.3));\n",
              "      fill: #FFFFFF;\n",
              "    }\n",
              "  </style>\n",
              "\n",
              "    <script>\n",
              "      const buttonEl =\n",
              "        document.querySelector('#df-419a17cb-dae0-4f94-b700-6d06be9242d6 button.colab-df-convert');\n",
              "      buttonEl.style.display =\n",
              "        google.colab.kernel.accessAllowed ? 'block' : 'none';\n",
              "\n",
              "      async function convertToInteractive(key) {\n",
              "        const element = document.querySelector('#df-419a17cb-dae0-4f94-b700-6d06be9242d6');\n",
              "        const dataTable =\n",
              "          await google.colab.kernel.invokeFunction('convertToInteractive',\n",
              "                                                    [key], {});\n",
              "        if (!dataTable) return;\n",
              "\n",
              "        const docLinkHtml = 'Like what you see? Visit the ' +\n",
              "          '<a target=\"_blank\" href=https://colab.research.google.com/notebooks/data_table.ipynb>data table notebook</a>'\n",
              "          + ' to learn more about interactive tables.';\n",
              "        element.innerHTML = '';\n",
              "        dataTable['output_type'] = 'display_data';\n",
              "        await google.colab.output.renderOutput(dataTable, element);\n",
              "        const docLink = document.createElement('div');\n",
              "        docLink.innerHTML = docLinkHtml;\n",
              "        element.appendChild(docLink);\n",
              "      }\n",
              "    </script>\n",
              "  </div>\n",
              "\n",
              "\n",
              "<div id=\"df-e3237860-02ce-4b80-8e44-8a70506c8368\">\n",
              "  <button class=\"colab-df-quickchart\" onclick=\"quickchart('df-e3237860-02ce-4b80-8e44-8a70506c8368')\"\n",
              "            title=\"Suggest charts.\"\n",
              "            style=\"display:none;\">\n",
              "\n",
              "<svg xmlns=\"http://www.w3.org/2000/svg\" height=\"24px\"viewBox=\"0 0 24 24\"\n",
              "     width=\"24px\">\n",
              "    <g>\n",
              "        <path d=\"M19 3H5c-1.1 0-2 .9-2 2v14c0 1.1.9 2 2 2h14c1.1 0 2-.9 2-2V5c0-1.1-.9-2-2-2zM9 17H7v-7h2v7zm4 0h-2V7h2v10zm4 0h-2v-4h2v4z\"/>\n",
              "    </g>\n",
              "</svg>\n",
              "  </button>\n",
              "\n",
              "<style>\n",
              "  .colab-df-quickchart {\n",
              "      --bg-color: #E8F0FE;\n",
              "      --fill-color: #1967D2;\n",
              "      --hover-bg-color: #E2EBFA;\n",
              "      --hover-fill-color: #174EA6;\n",
              "      --disabled-fill-color: #AAA;\n",
              "      --disabled-bg-color: #DDD;\n",
              "  }\n",
              "\n",
              "  [theme=dark] .colab-df-quickchart {\n",
              "      --bg-color: #3B4455;\n",
              "      --fill-color: #D2E3FC;\n",
              "      --hover-bg-color: #434B5C;\n",
              "      --hover-fill-color: #FFFFFF;\n",
              "      --disabled-bg-color: #3B4455;\n",
              "      --disabled-fill-color: #666;\n",
              "  }\n",
              "\n",
              "  .colab-df-quickchart {\n",
              "    background-color: var(--bg-color);\n",
              "    border: none;\n",
              "    border-radius: 50%;\n",
              "    cursor: pointer;\n",
              "    display: none;\n",
              "    fill: var(--fill-color);\n",
              "    height: 32px;\n",
              "    padding: 0;\n",
              "    width: 32px;\n",
              "  }\n",
              "\n",
              "  .colab-df-quickchart:hover {\n",
              "    background-color: var(--hover-bg-color);\n",
              "    box-shadow: 0 1px 2px rgba(60, 64, 67, 0.3), 0 1px 3px 1px rgba(60, 64, 67, 0.15);\n",
              "    fill: var(--button-hover-fill-color);\n",
              "  }\n",
              "\n",
              "  .colab-df-quickchart-complete:disabled,\n",
              "  .colab-df-quickchart-complete:disabled:hover {\n",
              "    background-color: var(--disabled-bg-color);\n",
              "    fill: var(--disabled-fill-color);\n",
              "    box-shadow: none;\n",
              "  }\n",
              "\n",
              "  .colab-df-spinner {\n",
              "    border: 2px solid var(--fill-color);\n",
              "    border-color: transparent;\n",
              "    border-bottom-color: var(--fill-color);\n",
              "    animation:\n",
              "      spin 1s steps(1) infinite;\n",
              "  }\n",
              "\n",
              "  @keyframes spin {\n",
              "    0% {\n",
              "      border-color: transparent;\n",
              "      border-bottom-color: var(--fill-color);\n",
              "      border-left-color: var(--fill-color);\n",
              "    }\n",
              "    20% {\n",
              "      border-color: transparent;\n",
              "      border-left-color: var(--fill-color);\n",
              "      border-top-color: var(--fill-color);\n",
              "    }\n",
              "    30% {\n",
              "      border-color: transparent;\n",
              "      border-left-color: var(--fill-color);\n",
              "      border-top-color: var(--fill-color);\n",
              "      border-right-color: var(--fill-color);\n",
              "    }\n",
              "    40% {\n",
              "      border-color: transparent;\n",
              "      border-right-color: var(--fill-color);\n",
              "      border-top-color: var(--fill-color);\n",
              "    }\n",
              "    60% {\n",
              "      border-color: transparent;\n",
              "      border-right-color: var(--fill-color);\n",
              "    }\n",
              "    80% {\n",
              "      border-color: transparent;\n",
              "      border-right-color: var(--fill-color);\n",
              "      border-bottom-color: var(--fill-color);\n",
              "    }\n",
              "    90% {\n",
              "      border-color: transparent;\n",
              "      border-bottom-color: var(--fill-color);\n",
              "    }\n",
              "  }\n",
              "</style>\n",
              "\n",
              "  <script>\n",
              "    async function quickchart(key) {\n",
              "      const quickchartButtonEl =\n",
              "        document.querySelector('#' + key + ' button');\n",
              "      quickchartButtonEl.disabled = true;  // To prevent multiple clicks.\n",
              "      quickchartButtonEl.classList.add('colab-df-spinner');\n",
              "      try {\n",
              "        const charts = await google.colab.kernel.invokeFunction(\n",
              "            'suggestCharts', [key], {});\n",
              "      } catch (error) {\n",
              "        console.error('Error during call to suggestCharts:', error);\n",
              "      }\n",
              "      quickchartButtonEl.classList.remove('colab-df-spinner');\n",
              "      quickchartButtonEl.classList.add('colab-df-quickchart-complete');\n",
              "    }\n",
              "    (() => {\n",
              "      let quickchartButtonEl =\n",
              "        document.querySelector('#df-e3237860-02ce-4b80-8e44-8a70506c8368 button');\n",
              "      quickchartButtonEl.style.display =\n",
              "        google.colab.kernel.accessAllowed ? 'block' : 'none';\n",
              "    })();\n",
              "  </script>\n",
              "</div>\n",
              "    </div>\n",
              "  </div>\n"
            ]
          },
          "metadata": {},
          "execution_count": 55
        }
      ]
    },
    {
      "cell_type": "markdown",
      "source": [
        "here, after that we are displaying the results of the sigtest dataframe of the hypothesis testing simulation. each of the row represent the different iteration with different alpha level.\n",
        "err is used for showing that there is type -I error or not 0 is used as no error. p-value is generated during the t-test , this is used for probability of observation of the data if the hypothesis is null and its true. alpha is represent the significant level which is used for the hypothesis test.\n",
        "\n",
        "focusing on the data in the table, its shows that for the first five records there is no type -I error occured with the different alpha levels. and focusing on the p-values all the values are higher than all the corresponding alpha values which shows that the we are unable to reject null hypothesis.\n"
      ],
      "metadata": {
        "id": "iWLNoxlFJecw"
      }
    },
    {
      "cell_type": "code",
      "source": [
        "# group type 1 error by values of alpha\n",
        "group_error = sigTests.groupby('alpha')['err'].sum()\n",
        "group_error.plot.bar(title = \"TYPE I ERROR - FALSE POSITIVES\")"
      ],
      "metadata": {
        "colab": {
          "base_uri": "https://localhost:8080/",
          "height": 526
        },
        "id": "XPuNfO5_J46z",
        "outputId": "5948c7c1-db4c-41ff-dee4-ca48500f4190"
      },
      "execution_count": null,
      "outputs": [
        {
          "output_type": "execute_result",
          "data": {
            "text/plain": [
              "<Axes: title={'center': 'TYPE I ERROR - FALSE POSITIVES'}, xlabel='alpha'>"
            ]
          },
          "metadata": {},
          "execution_count": 56
        },
        {
          "output_type": "display_data",
          "data": {
            "text/plain": [
              "<Figure size 640x480 with 1 Axes>"
            ],
            "image/png": "[encoded data removed]"
          },
          "metadata": {}
        }
      ]
    },
    {
      "cell_type": "markdown",
      "source": [
        "here, we are creating the bar chart for representing the data of alpha level along with type -I error from the sigtest dataframe.\n",
        "focusing on the chart, x-axis label as alpha level while y-axis is used as type -I error. where the type - I error is constantly rise from 0.01 alpha level to upto 0.5 alpha level and its reach to above 50 at the 0.5 alpha level.\n",
        "\n",
        "the results are shows that the number of false positives are differ with the different alpha levels, this is provide the view of the effect of the alpha on the every occurance of the type -I error in the hypothesis testing.\n"
      ],
      "metadata": {
        "id": "s4AxCN8_K2YB"
      }
    },
    {
      "cell_type": "markdown",
      "source": [
        "Grouped data clearly shows that as value of alpha is increases from .001 to 0.5, the probability of TYPE I errors also increase."
      ],
      "metadata": {
        "id": "Cv9njTUPWq8z"
      }
    },
    {
      "cell_type": "markdown",
      "source": [
        "###Write your observations of the above tutorial here(10%)"
      ],
      "metadata": {
        "id": "soZCcTMvEHOR"
      }
    },
    {
      "cell_type": "markdown",
      "source": [
        "here, we are performing hypothesis testing and analysing the Type I error at the different of significant level.\n",
        "\n",
        "first we are importing libraries for conducting the hypothesis test.we are importing numpy, pandas and matplotlib for data analysis and represent the data of the analysis while scipy is used for performing T-test and Anova.\n",
        " after that we are generating the population, for population we creare variable name as pop which is 1000 for random samples and with mean of 100 and standard deviation is 20. focusing on the results of the graph is represent the density range from 0.000 to 0.0200 and for population in y-axis range are from 25 to 175. and the highest its reached at above 0.0175 on between 100 to 125. so the population is aries between 25 to 175.\n",
        "after that we are creating the samples, sample 1 and sample 2. each of them containing the 100 random values from the population. focusing on the results sample 1 mean is approximately 103 and  sample 2 mean is around 100.\n",
        "\n",
        "now we are performing t-test using the two sample values and comparing the sample 1 and sample 2. after the test focusing on the results p-value is 0.33 which is higher than  alpha value 0.05 so its clearly shown that there is significant difference between the samples and we are failed to reject null hypothesis.  df is degree of freedom which is 198.0 and statistics is 0.97 approx.\n",
        "\n",
        "now, we are visualizing the results of the sample 1 and sample 2, where the sample 1 values are high in between 100 and 125 while sample 2 values are high at level 100 and reached at 0.020 density while sample 1 is above the 0.020 density. focusing on the hypothesis two of the samples almost rely on the same edges of the graphs.there is slightly difference between both groups.\n",
        "\n",
        "now, we are  working on the type I error, where a loop is set to run the t-test for multiple times  with the different significance levels. for each time when loop iterate there are two random samples are drawn from the populations. here, t-test is used and p-value is compared with the alpha value to check if we are able to reject null hypothesis.  sigtest is the information about the type I error happened, and here the p-value and alpha value is stored in the dataframe.\n",
        "\n",
        "here, we are using sigtests dataframe for checking and analysing the type I errors. this is counter for how many times the type I error occured  for each alpha level.\n",
        "\n",
        "now, we are visualizing the result of the type -I error and creating the bar chart for showing the type  - I error for each of the alpha level. this is represent the overview of the relationship between the alpha level and false positive. focusing on the graph,  at the x-axis its labeled as alpha level, which range between 0.001 to 0.5 and talking about on the y- axis is labeled as type -I error, which range between  0 to 50. in the results error is high above the 50 in the alpha level 0.5.  its starts and reach at the 0 error with the alpha level at 0.0 and its gredually in increasing manners.\n",
        "\n",
        "all in all, we are doing hypothesis test and type -I error. this is show the importance of the choosing significant level and consequences of the setting too high, this lead to the increased of false positive. and we use visualization for represent the errors with alpha values which is helps to understand the results better about the frequency of the type -I error and changes of the different alpha values.at the end we get the analysis is that every error above 50 is reached at alpha level 0.5. which is shows that most of the errors are false positive."
      ],
      "metadata": {
        "id": "eR7CLYNLpORd"
      }
    },
    {
      "cell_type": "markdown",
      "source": [
        "#Task 2:(60%)\n",
        "**Question 1**:Understand the above tutorial and write a code similar to above except samples should be taken from two different populations. introduce a new variable to represent the difference between two poulations. The hypothesis test should, in most cases, reject the Null hypothesis as samples belong to different populations, except, in extreme cases where there is no significant difference between samples i.e. a TYPE II error (False Negatives). Code should reflect how rate of false negatives is affected by alpha.**(25%)**"
      ],
      "metadata": {
        "id": "keZkHYbCgxxV"
      }
    },
    {
      "cell_type": "code",
      "source": [
        "#Write your code below the comment\n",
        "\n",
        "\n",
        "np.random.seed(0)\n",
        "\n",
        "pop1 = np.random.normal(100, 20, 1000)\n",
        "pop2 = np.random.normal(110, 20, 1000)\n",
        "\n",
        "numTests = 100\n",
        "alphaSet = [0.001, 0.01, 0.05, 0.1, 0.2, 0.5]\n",
        "columns = ['err', 'p_val', 'alpha']\n",
        "sigTests1 = pd.DataFrame(columns=columns)\n",
        "\n",
        "counter = 1\n",
        "\n",
        "for i in range(1, numTests + 1):\n",
        "\n",
        "    for alpha in alphaSet:\n",
        "\n",
        "        sample1 = np.random.choice(pop1, 100, replace=True)\n",
        "        sample2 = np.random.choice(pop2, 100, replace=True)\n",
        "\n",
        "        mean_diff = np.mean(sample1) - np.mean(sample2)\n",
        "\n",
        "        result = stats.ttest_ind(sample1, sample2)\n",
        "\n",
        "        if result[1] >= alpha:\n",
        "            sigTests1.loc[counter] = [1, result[1], alpha]\n",
        "        else:\n",
        "            sigTests1.loc[counter] = [0, result[1], alpha]\n",
        "\n",
        "        counter += 1\n",
        "\n",
        "type_2_error_rate = sigTests1.groupby('alpha')['err'].mean()\n",
        "\n",
        "plt.figure(figsize=(10, 6))\n",
        "type_2_error_rate.plot.bar(title=\"TYPE II ERROR - FALSE NEGATIVES\")\n",
        "plt.xlabel('Alpha')\n",
        "plt.ylabel('Type II Error Rate')\n",
        "plt.show()\n",
        "\n"
      ],
      "metadata": {
        "id": "iH9v_WmzItyq",
        "colab": {
          "base_uri": "https://localhost:8080/",
          "height": 601
        },
        "outputId": "e4718962-594c-4578-df03-da863285094e"
      },
      "execution_count": null,
      "outputs": [
        {
          "output_type": "display_data",
          "data": {
            "text/plain": [
              "<Figure size 1000x600 with 1 Axes>"
            ],
            "image/png": "[encoded data removed]"
          },
          "metadata": {}
        }
      ]
    },
    {
      "cell_type": "code",
      "source": [
        "sigTests1.head()"
      ],
      "metadata": {
        "colab": {
          "base_uri": "https://localhost:8080/",
          "height": 206
        },
        "id": "Y8KzB9_Wb-Jk",
        "outputId": "b61ea8c8-19f1-4d53-cd89-630257a740a8"
      },
      "execution_count": null,
      "outputs": [
        {
          "output_type": "execute_result",
          "data": {
            "text/plain": [
              "   err         p_val  alpha\n",
              "1  0.0  2.465200e-04  0.001\n",
              "2  0.0  1.747917e-04  0.010\n",
              "3  0.0  4.432876e-03  0.050\n",
              "4  0.0  1.803667e-04  0.100\n",
              "5  0.0  3.186073e-07  0.200"
            ],
            "text/html": [
              "\n",
              "  <div id=\"df-72ccdbb6-50ed-4946-b0ff-ec6ac27ee705\" class=\"colab-df-container\">\n",
              "    <div>\n",
              "<style scoped>\n",
              "    .dataframe tbody tr th:only-of-type {\n",
              "        vertical-align: middle;\n",
              "    }\n",
              "\n",
              "    .dataframe tbody tr th {\n",
              "        vertical-align: top;\n",
              "    }\n",
              "\n",
              "    .dataframe thead th {\n",
              "        text-align: right;\n",
              "    }\n",
              "</style>\n",
              "<table border=\"1\" class=\"dataframe\">\n",
              "  <thead>\n",
              "    <tr style=\"text-align: right;\">\n",
              "      <th></th>\n",
              "      <th>err</th>\n",
              "      <th>p_val</th>\n",
              "      <th>alpha</th>\n",
              "    </tr>\n",
              "  </thead>\n",
              "  <tbody>\n",
              "    <tr>\n",
              "      <th>1</th>\n",
              "      <td>0.0</td>\n",
              "      <td>2.465200e-04</td>\n",
              "      <td>0.001</td>\n",
              "    </tr>\n",
              "    <tr>\n",
              "      <th>2</th>\n",
              "      <td>0.0</td>\n",
              "      <td>1.747917e-04</td>\n",
              "      <td>0.010</td>\n",
              "    </tr>\n",
              "    <tr>\n",
              "      <th>3</th>\n",
              "      <td>0.0</td>\n",
              "      <td>4.432876e-03</td>\n",
              "      <td>0.050</td>\n",
              "    </tr>\n",
              "    <tr>\n",
              "      <th>4</th>\n",
              "      <td>0.0</td>\n",
              "      <td>1.803667e-04</td>\n",
              "      <td>0.100</td>\n",
              "    </tr>\n",
              "    <tr>\n",
              "      <th>5</th>\n",
              "      <td>0.0</td>\n",
              "      <td>3.186073e-07</td>\n",
              "      <td>0.200</td>\n",
              "    </tr>\n",
              "  </tbody>\n",
              "</table>\n",
              "</div>\n",
              "    <div class=\"colab-df-buttons\">\n",
              "\n",
              "  <div class=\"colab-df-container\">\n",
              "    <button class=\"colab-df-convert\" onclick=\"convertToInteractive('df-72ccdbb6-50ed-4946-b0ff-ec6ac27ee705')\"\n",
              "            title=\"Convert this dataframe to an interactive table.\"\n",
              "            style=\"display:none;\">\n",
              "\n",
              "  <svg xmlns=\"http://www.w3.org/2000/svg\" height=\"24px\" viewBox=\"0 -960 960 960\">\n",
              "    <path d=\"M120-120v-720h720v720H120Zm60-500h600v-160H180v160Zm220 220h160v-160H400v160Zm0 220h160v-160H400v160ZM180-400h160v-160H180v160Zm440 0h160v-160H620v160ZM180-180h160v-160H180v160Zm440 0h160v-160H620v160Z\"/>\n",
              "  </svg>\n",
              "    </button>\n",
              "\n",
              "  <style>\n",
              "    .colab-df-container {\n",
              "      display:flex;\n",
              "      gap: 12px;\n",
              "    }\n",
              "\n",
              "    .colab-df-convert {\n",
              "      background-color: #E8F0FE;\n",
              "      border: none;\n",
              "      border-radius: 50%;\n",
              "      cursor: pointer;\n",
              "      display: none;\n",
              "      fill: #1967D2;\n",
              "      height: 32px;\n",
              "      padding: 0 0 0 0;\n",
              "      width: 32px;\n",
              "    }\n",
              "\n",
              "    .colab-df-convert:hover {\n",
              "      background-color: #E2EBFA;\n",
              "      box-shadow: 0px 1px 2px rgba(60, 64, 67, 0.3), 0px 1px 3px 1px rgba(60, 64, 67, 0.15);\n",
              "      fill: #174EA6;\n",
              "    }\n",
              "\n",
              "    .colab-df-buttons div {\n",
              "      margin-bottom: 4px;\n",
              "    }\n",
              "\n",
              "    [theme=dark] .colab-df-convert {\n",
              "      background-color: #3B4455;\n",
              "      fill: #D2E3FC;\n",
              "    }\n",
              "\n",
              "    [theme=dark] .colab-df-convert:hover {\n",
              "      background-color: #434B5C;\n",
              "      box-shadow: 0px 1px 3px 1px rgba(0, 0, 0, 0.15);\n",
              "      filter: drop-shadow(0px 1px 2px rgba(0, 0, 0, 0.3));\n",
              "      fill: #FFFFFF;\n",
              "    }\n",
              "  </style>\n",
              "\n",
              "    <script>\n",
              "      const buttonEl =\n",
              "        document.querySelector('#df-72ccdbb6-50ed-4946-b0ff-ec6ac27ee705 button.colab-df-convert');\n",
              "      buttonEl.style.display =\n",
              "        google.colab.kernel.accessAllowed ? 'block' : 'none';\n",
              "\n",
              "      async function convertToInteractive(key) {\n",
              "        const element = document.querySelector('#df-72ccdbb6-50ed-4946-b0ff-ec6ac27ee705');\n",
              "        const dataTable =\n",
              "          await google.colab.kernel.invokeFunction('convertToInteractive',\n",
              "                                                    [key], {});\n",
              "        if (!dataTable) return;\n",
              "\n",
              "        const docLinkHtml = 'Like what you see? Visit the ' +\n",
              "          '<a target=\"_blank\" href=https://colab.research.google.com/notebooks/data_table.ipynb>data table notebook</a>'\n",
              "          + ' to learn more about interactive tables.';\n",
              "        element.innerHTML = '';\n",
              "        dataTable['output_type'] = 'display_data';\n",
              "        await google.colab.output.renderOutput(dataTable, element);\n",
              "        const docLink = document.createElement('div');\n",
              "        docLink.innerHTML = docLinkHtml;\n",
              "        element.appendChild(docLink);\n",
              "      }\n",
              "    </script>\n",
              "  </div>\n",
              "\n",
              "\n",
              "<div id=\"df-11aa12ae-352e-48be-af64-2df20f22e67f\">\n",
              "  <button class=\"colab-df-quickchart\" onclick=\"quickchart('df-11aa12ae-352e-48be-af64-2df20f22e67f')\"\n",
              "            title=\"Suggest charts.\"\n",
              "            style=\"display:none;\">\n",
              "\n",
              "<svg xmlns=\"http://www.w3.org/2000/svg\" height=\"24px\"viewBox=\"0 0 24 24\"\n",
              "     width=\"24px\">\n",
              "    <g>\n",
              "        <path d=\"M19 3H5c-1.1 0-2 .9-2 2v14c0 1.1.9 2 2 2h14c1.1 0 2-.9 2-2V5c0-1.1-.9-2-2-2zM9 17H7v-7h2v7zm4 0h-2V7h2v10zm4 0h-2v-4h2v4z\"/>\n",
              "    </g>\n",
              "</svg>\n",
              "  </button>\n",
              "\n",
              "<style>\n",
              "  .colab-df-quickchart {\n",
              "      --bg-color: #E8F0FE;\n",
              "      --fill-color: #1967D2;\n",
              "      --hover-bg-color: #E2EBFA;\n",
              "      --hover-fill-color: #174EA6;\n",
              "      --disabled-fill-color: #AAA;\n",
              "      --disabled-bg-color: #DDD;\n",
              "  }\n",
              "\n",
              "  [theme=dark] .colab-df-quickchart {\n",
              "      --bg-color: #3B4455;\n",
              "      --fill-color: #D2E3FC;\n",
              "      --hover-bg-color: #434B5C;\n",
              "      --hover-fill-color: #FFFFFF;\n",
              "      --disabled-bg-color: #3B4455;\n",
              "      --disabled-fill-color: #666;\n",
              "  }\n",
              "\n",
              "  .colab-df-quickchart {\n",
              "    background-color: var(--bg-color);\n",
              "    border: none;\n",
              "    border-radius: 50%;\n",
              "    cursor: pointer;\n",
              "    display: none;\n",
              "    fill: var(--fill-color);\n",
              "    height: 32px;\n",
              "    padding: 0;\n",
              "    width: 32px;\n",
              "  }\n",
              "\n",
              "  .colab-df-quickchart:hover {\n",
              "    background-color: var(--hover-bg-color);\n",
              "    box-shadow: 0 1px 2px rgba(60, 64, 67, 0.3), 0 1px 3px 1px rgba(60, 64, 67, 0.15);\n",
              "    fill: var(--button-hover-fill-color);\n",
              "  }\n",
              "\n",
              "  .colab-df-quickchart-complete:disabled,\n",
              "  .colab-df-quickchart-complete:disabled:hover {\n",
              "    background-color: var(--disabled-bg-color);\n",
              "    fill: var(--disabled-fill-color);\n",
              "    box-shadow: none;\n",
              "  }\n",
              "\n",
              "  .colab-df-spinner {\n",
              "    border: 2px solid var(--fill-color);\n",
              "    border-color: transparent;\n",
              "    border-bottom-color: var(--fill-color);\n",
              "    animation:\n",
              "      spin 1s steps(1) infinite;\n",
              "  }\n",
              "\n",
              "  @keyframes spin {\n",
              "    0% {\n",
              "      border-color: transparent;\n",
              "      border-bottom-color: var(--fill-color);\n",
              "      border-left-color: var(--fill-color);\n",
              "    }\n",
              "    20% {\n",
              "      border-color: transparent;\n",
              "      border-left-color: var(--fill-color);\n",
              "      border-top-color: var(--fill-color);\n",
              "    }\n",
              "    30% {\n",
              "      border-color: transparent;\n",
              "      border-left-color: var(--fill-color);\n",
              "      border-top-color: var(--fill-color);\n",
              "      border-right-color: var(--fill-color);\n",
              "    }\n",
              "    40% {\n",
              "      border-color: transparent;\n",
              "      border-right-color: var(--fill-color);\n",
              "      border-top-color: var(--fill-color);\n",
              "    }\n",
              "    60% {\n",
              "      border-color: transparent;\n",
              "      border-right-color: var(--fill-color);\n",
              "    }\n",
              "    80% {\n",
              "      border-color: transparent;\n",
              "      border-right-color: var(--fill-color);\n",
              "      border-bottom-color: var(--fill-color);\n",
              "    }\n",
              "    90% {\n",
              "      border-color: transparent;\n",
              "      border-bottom-color: var(--fill-color);\n",
              "    }\n",
              "  }\n",
              "</style>\n",
              "\n",
              "  <script>\n",
              "    async function quickchart(key) {\n",
              "      const quickchartButtonEl =\n",
              "        document.querySelector('#' + key + ' button');\n",
              "      quickchartButtonEl.disabled = true;  // To prevent multiple clicks.\n",
              "      quickchartButtonEl.classList.add('colab-df-spinner');\n",
              "      try {\n",
              "        const charts = await google.colab.kernel.invokeFunction(\n",
              "            'suggestCharts', [key], {});\n",
              "      } catch (error) {\n",
              "        console.error('Error during call to suggestCharts:', error);\n",
              "      }\n",
              "      quickchartButtonEl.classList.remove('colab-df-spinner');\n",
              "      quickchartButtonEl.classList.add('colab-df-quickchart-complete');\n",
              "    }\n",
              "    (() => {\n",
              "      let quickchartButtonEl =\n",
              "        document.querySelector('#df-11aa12ae-352e-48be-af64-2df20f22e67f button');\n",
              "      quickchartButtonEl.style.display =\n",
              "        google.colab.kernel.accessAllowed ? 'block' : 'none';\n",
              "    })();\n",
              "  </script>\n",
              "</div>\n",
              "    </div>\n",
              "  </div>\n"
            ]
          },
          "metadata": {},
          "execution_count": 58
        }
      ]
    },
    {
      "cell_type": "markdown",
      "source": [
        "Here, we are creating the simulation of hypothesis test for analyse the type -II error for the two population with different means.\n",
        "first we are creating the random samples using the np.random seed method. here , we are creating the random samples from two different population, pop1 and pop2 and here we are performing the two different sample t-test for the different significant level for detect difference between the means.\n",
        "here two population are generated with 1000 random samples and with different means 100 and 110 and using the same standard deviation is 20.\n",
        "\n",
        "here, we are using the hypothesis testing simulation with the number of test and with the different number of alpha levels. at the each of the iteration there are two random samples are drawn form pop1 and pop2.here, we calculate the difference of the means and we are performing the t-test to compare the two means of the two samples. using the results of p-value in the t-test its check if the type  II error is occured where 0 is for no error while, 1 is for error and records all the results in the sigtests dataframe.\n",
        "focusing on the type - II error its calculate the error rate for the each alpha value by the group and average of the type II error as err stored in the dataframe.\n",
        "\n",
        "at the last we are visualizing the type -II error and the different alpha levels from the sigtests1 dataframe. focusing on the figure its represent the data, x-axis contains the alpha level. while, y-axis contains the type -II error.highest type -II error reported at alpha level 0.001 which reach above 0.14 at the error rate and after wards its start draining down up to alpha level 0.5 and again its start raising and reach at above 0.02 at the 0.1 alpha level.\n",
        "\n",
        "\n",
        "all in all, here we are performing hypothesis testing simulation for type -II error. here its allows us to analyse the risk that we are failing to detect the true difference when we are comparing the two different populations with different significant level.  this chart is defined the choice of alpha level for using type -I and type -II errors this chart help to take decision about the alpha level. type -II error is happened when the test is fail when we try to detect the difference between the population. here we are calculating the type -II error with the alpha level.  at the last we are displaying the table sigtests1 for checking the results, focusing on the table all the p-values are higher than the alpha values, which indicates that we are not able to fail the null hypothesis. and we don't have enough evidence to prove that we are rejecting the null hypothesis.\n"
      ],
      "metadata": {
        "id": "NWqRuEuqMfbP"
      }
    },
    {
      "cell_type": "markdown",
      "source": [
        "**Question 2**: Choose your own values of population, mean and standard deviation. Find the t-test result and draw the distplot.**(25%)**"
      ],
      "metadata": {
        "id": "VWvXb2lGGh3x"
      }
    },
    {
      "cell_type": "code",
      "source": [
        "#Write your code below the comment\n",
        "\n",
        "\n",
        "np.random.seed(42)\n",
        "\n",
        "population1 = np.random.normal(100, 15, 1000)\n",
        "population2 = np.random.normal(110, 20, 1000)\n",
        "\n",
        "sample1 = np.random.choice(population1, 100, replace=True)\n",
        "sample2 = np.random.choice(population2, 100, replace=True)\n",
        "\n",
        "t_statistic, p_value = stats.ttest_ind(sample1, sample2)\n",
        "\n",
        "\n",
        "\n",
        "plt.figure(figsize=(12, 6))\n",
        "\n",
        "plt.subplot(1, 2, 1)\n",
        "sns.histplot(sample1, label='Sample 1 (Population 1)',kde=True)\n",
        "sns.histplot(sample2, label='Sample 2 (Population 2)',kde=True)\n",
        "plt.title(\"Distribution of Samples\")\n",
        "plt.legend()\n",
        "\n",
        "plt.subplot(1, 2, 2)\n",
        "sns.histplot(sample1, label='Sample 1 (Population 1)',kde=True)\n",
        "sns.histplot(sample2, label='Sample 2 (Population 2)',kde=True)\n",
        "plt.title(\"Zoomed-in Distribution of Samples\")\n",
        "plt.xlim(70, 150)\n",
        "plt.legend()\n",
        "\n",
        "plt.show()\n"
      ],
      "metadata": {
        "id": "5rxhEb-uIxiA",
        "colab": {
          "base_uri": "https://localhost:8080/",
          "height": 549
        },
        "outputId": "88bc84d4-7122-4171-b99a-c94bce219ceb"
      },
      "execution_count": null,
      "outputs": [
        {
          "output_type": "display_data",
          "data": {
            "text/plain": [
              "<Figure size 1200x600 with 2 Axes>"
            ],
            "image/png": "[encoded data removed]"
          },
          "metadata": {}
        }
      ]
    },
    {
      "cell_type": "markdown",
      "source": [
        "this is the visualization of the two samples."
      ],
      "metadata": {
        "id": "Yq08m_f7cra1"
      }
    },
    {
      "cell_type": "code",
      "source": [
        "print(\"T-Statistic:\", t_statistic)\n",
        "print(\"P-Value:\", p_value)"
      ],
      "metadata": {
        "colab": {
          "base_uri": "https://localhost:8080/"
        },
        "id": "KGFZxmCYcD2-",
        "outputId": "d53bcc12-226a-4609-f74c-b3e5efd6bd51"
      },
      "execution_count": null,
      "outputs": [
        {
          "output_type": "stream",
          "name": "stdout",
          "text": [
            "T-Statistic: -3.183568546293029\n",
            "P-Value: 0.0016896489296679793\n"
          ]
        }
      ]
    },
    {
      "cell_type": "markdown",
      "source": [
        "here, we are doing t-testing using our own population, mean and standard deviation.\n",
        "first step is sample generation, first we are generating the samples using the np.random seed method. here, two different populations are generated , population1 and population2 with different mean and standard deviations values.\n",
        "we are creating two samples, sample 1 and sample 2 form this two populations.\n",
        "\n",
        "here, we are conducting the two sample t-test and compare two means of sample1 and sample2. where -p-value and t-stitistics is calculated. t-statics is calculated as -3.18 approx while the p-value is 0.0016 which is lower than the alpha level 0.05 which suggest that there is significant difference between the groups and we are able to reject null hypothesis we have enough proof to reject null hypothsis.\n",
        "\n",
        "here, two different density plots are created, for sample 1 and sample 2. there are two plots is created named as, distribution sample and zoomed in distribution samples.\n",
        "\n",
        "focusing on the plots of distribution of samples, sample 1 is reached above the 0.025 density level at the 100 alpha level and for sample 2 its reached at above 0.015 to above. sample 1 is represent in blue line and sample 2 represent in the orange line.\n",
        "\n",
        "focusing on the second graph zoomed in distribution samples, here, x-axis is the alpha level while the y-axis is the density. focusing on the graph , blue line represent as sample 1 and orange is for sample2. here, sample1 is reached above the 0.025 and alpha level is at 100. for sample 2 is reached at above 0.015 density at the alpha level at 100 and stable until the 120 and then its start dropping.\n",
        "\n",
        "this graph is represent the t-test results, there is significant difference between the two means  between the two population. t-statistics and p-value is specified that there is significant difference between two sample means and we have enough evedence to reject null hypothesis."
      ],
      "metadata": {
        "id": "Lck36_s0TKoZ"
      }
    },
    {
      "cell_type": "markdown",
      "source": [
        "**Question 3**: Explain why a level of 0.05 is chosen as a cut-off for statistical significance?**(10%)**"
      ],
      "metadata": {
        "id": "K1O4yrTmSXVv"
      }
    },
    {
      "cell_type": "markdown",
      "source": [
        "significant level of 0.5 is the common choice for the hypothesis testing, but its important to reason behind to understand it.\n",
        "\n",
        "the significant level representing the probability of  occured the type -I error , which is used for rejecting the true null hypothesis.by protocal, the researchers goal is to control the type - I error rate at a reasonable level, which is typically at 0.05. this is used for finding the effectful meaning of the rresults and also minimizing the difference between the false positive.  \n",
        "\n",
        "the choice of the alpha 0.05 is historical roots and was used widely in the scientific research for many years. researchers are mostly stick on the protocol for consistant and compared in whole the study.\n",
        "\n",
        "a 0.05 significant level which is used most likely for consider a reasonable for compromise between being too traditional which requires the strong evidence to reject null hypothesis and being too considerable which allow weak evidence for reject the null hypothesis.\n",
        "\n",
        "if the significant level is increased to 0.10 and reduced the probability of the type -II errors, but its correlated with type -I error and its increases the probability of the type -I error. researcher choose significant level  based on their goal and consequences of the making errors.\n",
        "\n",
        "talking about the academic and research institute also adop-t the significant level 0.05 as the standard of punlication. researchers mostly  stick with the standard to increase the chances of the work of being accept and recognised.\n",
        "\n",
        "significant level 0.05 is mostly considered practical because of the 95% confidence interval level. which is the mean of the study to reject null hypothesis at a alpha 0.05, which suggest that there is 95% confidence interval results which are not due to the random chance.\n",
        "\n",
        "\n",
        "choice of the significant level is based on the situation and the field of the research,and based on the specific problem, and also the consequences of the making errors. in some of the studies, researchers may choose the high significant level if the cost of the type -I error is very high , or may be they used more relaxed level when its exploring the new hypothesis with lower stack. the significant level choice is always justified and transparent report in research studies.\n",
        "all in all, for most of the research the significant level 0.05"
      ],
      "metadata": {
        "id": "T5gC9J-1aF6F"
      }
    }
  ]
}